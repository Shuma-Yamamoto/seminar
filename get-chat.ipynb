{
 "cells": [
  {
   "cell_type": "code",
   "execution_count": 23,
   "metadata": {},
   "outputs": [],
   "source": [
    "from chat_downloader import ChatDownloader\n",
    "\n",
    "url = 'https://www.youtube.com/watch?v='\n",
    "videoId = 'KWGS067bwi8'\n",
    "chat = ChatDownloader().get_chat(url+videoId)\n",
    "\n",
    "chat_list = list()\n",
    "\n",
    "for message in chat:\n",
    "    chat_list.append([videoId, message['time_in_seconds'], message['author']['name'], message['message']])\n",
    "\n",
    "chat_df = pd.DataFrame(chat_list, columns=['動画ID', '再生時間', 'ユーザー名', 'チャット'])"
   ]
  },
  {
   "cell_type": "code",
   "execution_count": 24,
   "metadata": {},
   "outputs": [
    {
     "data": {
      "text/html": [
       "<div>\n",
       "<style scoped>\n",
       "    .dataframe tbody tr th:only-of-type {\n",
       "        vertical-align: middle;\n",
       "    }\n",
       "\n",
       "    .dataframe tbody tr th {\n",
       "        vertical-align: top;\n",
       "    }\n",
       "\n",
       "    .dataframe thead th {\n",
       "        text-align: right;\n",
       "    }\n",
       "</style>\n",
       "<table border=\"1\" class=\"dataframe\">\n",
       "  <thead>\n",
       "    <tr style=\"text-align: right;\">\n",
       "      <th></th>\n",
       "      <th>動画ID</th>\n",
       "      <th>再生時間</th>\n",
       "      <th>ユーザー名</th>\n",
       "      <th>チャット</th>\n",
       "    </tr>\n",
       "  </thead>\n",
       "  <tbody>\n",
       "    <tr>\n",
       "      <th>0</th>\n",
       "      <td>KWGS067bwi8</td>\n",
       "      <td>23.532</td>\n",
       "      <td>るぅーむ</td>\n",
       "      <td>地震だぁ</td>\n",
       "    </tr>\n",
       "    <tr>\n",
       "      <th>1</th>\n",
       "      <td>KWGS067bwi8</td>\n",
       "      <td>35.811</td>\n",
       "      <td>シコルスキー大佐</td>\n",
       "      <td>焦った！</td>\n",
       "    </tr>\n",
       "    <tr>\n",
       "      <th>2</th>\n",
       "      <td>KWGS067bwi8</td>\n",
       "      <td>38.769</td>\n",
       "      <td>ごぼう</td>\n",
       "      <td>それな</td>\n",
       "    </tr>\n",
       "    <tr>\n",
       "      <th>3</th>\n",
       "      <td>KWGS067bwi8</td>\n",
       "      <td>44.189</td>\n",
       "      <td>Fortissimo Mitsuki</td>\n",
       "      <td>地震収まった</td>\n",
       "    </tr>\n",
       "    <tr>\n",
       "      <th>4</th>\n",
       "      <td>KWGS067bwi8</td>\n",
       "      <td>65.648</td>\n",
       "      <td>るぅーむ</td>\n",
       "      <td>神奈川でも4あたりはあったかな</td>\n",
       "    </tr>\n",
       "    <tr>\n",
       "      <th>...</th>\n",
       "      <td>...</td>\n",
       "      <td>...</td>\n",
       "      <td>...</td>\n",
       "      <td>...</td>\n",
       "    </tr>\n",
       "    <tr>\n",
       "      <th>3212</th>\n",
       "      <td>KWGS067bwi8</td>\n",
       "      <td>8643.056</td>\n",
       "      <td>マッスル北村</td>\n",
       "      <td>明日何回トラフくるよ</td>\n",
       "    </tr>\n",
       "    <tr>\n",
       "      <th>3213</th>\n",
       "      <td>KWGS067bwi8</td>\n",
       "      <td>8645.259</td>\n",
       "      <td>りゅー</td>\n",
       "      <td>アナウンサーは疲れてしまって爆睡</td>\n",
       "    </tr>\n",
       "    <tr>\n",
       "      <th>3214</th>\n",
       "      <td>KWGS067bwi8</td>\n",
       "      <td>8645.979</td>\n",
       "      <td>I no sisjen Hdirhe</td>\n",
       "      <td>最近やばいね</td>\n",
       "    </tr>\n",
       "    <tr>\n",
       "      <th>3215</th>\n",
       "      <td>KWGS067bwi8</td>\n",
       "      <td>8648.233</td>\n",
       "      <td>太陽族</td>\n",
       "      <td>東京近辺は阪神淡路大震災以上の震災が間も無く来るのか？</td>\n",
       "    </tr>\n",
       "    <tr>\n",
       "      <th>3216</th>\n",
       "      <td>KWGS067bwi8</td>\n",
       "      <td>8660.892</td>\n",
       "      <td>河堀口駅</td>\n",
       "      <td>南海トラフ　２０３０～２０３９年か</td>\n",
       "    </tr>\n",
       "  </tbody>\n",
       "</table>\n",
       "<p>3217 rows × 4 columns</p>\n",
       "</div>"
      ],
      "text/plain": [
       "             動画ID      再生時間               ユーザー名                         チャット\n",
       "0     KWGS067bwi8    23.532                るぅーむ                         地震だぁ\n",
       "1     KWGS067bwi8    35.811            シコルスキー大佐                         焦った！\n",
       "2     KWGS067bwi8    38.769                 ごぼう                          それな\n",
       "3     KWGS067bwi8    44.189  Fortissimo Mitsuki                       地震収まった\n",
       "4     KWGS067bwi8    65.648                るぅーむ              神奈川でも4あたりはあったかな\n",
       "...           ...       ...                 ...                          ...\n",
       "3212  KWGS067bwi8  8643.056              マッスル北村                   明日何回トラフくるよ\n",
       "3213  KWGS067bwi8  8645.259                 りゅー             アナウンサーは疲れてしまって爆睡\n",
       "3214  KWGS067bwi8  8645.979  I no sisjen Hdirhe                       最近やばいね\n",
       "3215  KWGS067bwi8  8648.233                 太陽族  東京近辺は阪神淡路大震災以上の震災が間も無く来るのか？\n",
       "3216  KWGS067bwi8  8660.892                河堀口駅            南海トラフ　２０３０～２０３９年か\n",
       "\n",
       "[3217 rows x 4 columns]"
      ]
     },
     "execution_count": 24,
     "metadata": {},
     "output_type": "execute_result"
    }
   ],
   "source": [
    "chat_df"
   ]
  },
  {
   "cell_type": "code",
   "execution_count": 25,
   "metadata": {},
   "outputs": [],
   "source": [
    "# CSV形式で出力\n",
    "chat_df.to_csv(f\"chat_{videoId}.csv\", index=False, encoding='utf-8')"
   ]
  },
  {
   "cell_type": "code",
   "execution_count": null,
   "metadata": {},
   "outputs": [],
   "source": []
  }
 ],
 "metadata": {
  "kernelspec": {
   "display_name": ".venv",
   "language": "python",
   "name": "python3"
  },
  "language_info": {
   "codemirror_mode": {
    "name": "ipython",
    "version": 3
   },
   "file_extension": ".py",
   "mimetype": "text/x-python",
   "name": "python",
   "nbconvert_exporter": "python",
   "pygments_lexer": "ipython3",
   "version": "3.10.10"
  },
  "orig_nbformat": 4,
  "vscode": {
   "interpreter": {
    "hash": "962c88976c5183b70bd2bd114c337181252f2e8b1760c63ec864278d2b766832"
   }
  }
 },
 "nbformat": 4,
 "nbformat_minor": 2
}

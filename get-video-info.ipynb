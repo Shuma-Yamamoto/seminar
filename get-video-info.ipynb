{
 "cells": [
  {
   "cell_type": "code",
   "execution_count": 2,
   "metadata": {},
   "outputs": [],
   "source": [
    "from dotenv import load_dotenv\n",
    "import requests\n",
    "import json\n",
    "import pandas as pd"
   ]
  },
  {
   "cell_type": "code",
   "execution_count": 19,
   "metadata": {},
   "outputs": [],
   "source": [
    "# 動画IDの設定\n",
    "videoId = 'wKk2op7zn8A'\n",
    "\n",
    "# APIキーの取得\n",
    "load_dotenv('.env')\n",
    "key = os.getenv('API_KEY')\n",
    "\n",
    "# URLの設定\n",
    "URL = 'https://www.googleapis.com/youtube/v3/'\n",
    "\n",
    "# 動画の概要を格納するリストの初期化\n",
    "video_info = list()"
   ]
  },
  {
   "cell_type": "code",
   "execution_count": 20,
   "metadata": {},
   "outputs": [],
   "source": [
    "# 動画の概要を取得するための関数\n",
    "def get_video_info(videoId):\n",
    "  # パラメータの設定\n",
    "  params = {\n",
    "    'key': key,\n",
    "    'part': 'snippet',\n",
    "    'id': videoId,\n",
    "  }\n",
    "\n",
    "  # リクエスト＆レスポンス\n",
    "  response = requests.get(URL + 'videos', params=params)\n",
    "  resource = response.json()\n",
    "\n",
    "  # 動画の概要を取得する\n",
    "  item = resource['items'][0]\n",
    "  # 初期化\n",
    "  title = posted_at = description = tags = category_id = thumbnails = ''\n",
    "  # タイトル\n",
    "  title = str(item['snippet']['title'])\n",
    "  # 投稿日時\n",
    "  posted_at = item['snippet']['publishedAt']\n",
    "  # 概要欄\n",
    "  description = str(item['snippet']['description'])\n",
    "  # タグ\n",
    "  tags = str(item['snippet']['tags'])\n",
    "  # カテゴリID\n",
    "  category_id = str(item['snippet']['categoryId'])\n",
    "  # サムネイルURL\n",
    "  thumbnails = str(item['snippet']['thumbnails']['high']['url'])\n",
    "\n",
    "  # パラメータの設定\n",
    "  params = {\n",
    "    'key': key,\n",
    "    'part': 'statistics',\n",
    "    'id': videoId,\n",
    "  }\n",
    "\n",
    "  # リクエスト＆レスポンス\n",
    "  response = requests.get(URL + 'videos', params=params)\n",
    "  resource = response.json()\n",
    "\n",
    "  # 動画の概要を取得する\n",
    "  item = resource['items'][0]\n",
    "  # 初期化\n",
    "  comment_count = view_count = like_count = ''\n",
    "  # コメント数\n",
    "  comment_count = int(item['statistics']['commentCount'])\n",
    "  # 視聴回数\n",
    "  view_count = int(item['statistics']['viewCount'])\n",
    "  # グッド数\n",
    "  like_count = int(item['statistics']['likeCount'])\n",
    "\n",
    "  # リストに追加\n",
    "  video_info.append([videoId, title, posted_at, description, tags, category_id, thumbnails, comment_count, view_count, like_count])"
   ]
  },
  {
   "cell_type": "code",
   "execution_count": 21,
   "metadata": {},
   "outputs": [],
   "source": [
    "# 動画の概要の取得\n",
    "get_video_info(videoId)"
   ]
  },
  {
   "cell_type": "code",
   "execution_count": 22,
   "metadata": {},
   "outputs": [
    {
     "data": {
      "text/html": [
       "<div>\n",
       "<style scoped>\n",
       "    .dataframe tbody tr th:only-of-type {\n",
       "        vertical-align: middle;\n",
       "    }\n",
       "\n",
       "    .dataframe tbody tr th {\n",
       "        vertical-align: top;\n",
       "    }\n",
       "\n",
       "    .dataframe thead th {\n",
       "        text-align: right;\n",
       "    }\n",
       "</style>\n",
       "<table border=\"1\" class=\"dataframe\">\n",
       "  <thead>\n",
       "    <tr style=\"text-align: right;\">\n",
       "      <th></th>\n",
       "      <th>動画ID</th>\n",
       "      <th>タイトル</th>\n",
       "      <th>投稿日時</th>\n",
       "      <th>概要欄</th>\n",
       "      <th>タグ</th>\n",
       "      <th>カテゴリID</th>\n",
       "      <th>サムネイルURL</th>\n",
       "      <th>コメント数</th>\n",
       "      <th>視聴回数</th>\n",
       "      <th>グッド数</th>\n",
       "    </tr>\n",
       "  </thead>\n",
       "  <tbody>\n",
       "    <tr>\n",
       "      <th>0</th>\n",
       "      <td>wKk2op7zn8A</td>\n",
       "      <td>【災害級大雪】“南国”高知県で「観測史上1位」積雪　愛媛県では停電も</td>\n",
       "      <td>2022-12-24T02:52:59Z</td>\n",
       "      <td>23日、“クリスマス寒波”が列島各地を襲い、西日本各地も大雪に見舞われました。愛媛・久万高原...</td>\n",
       "      <td>['社会']</td>\n",
       "      <td>25</td>\n",
       "      <td>https://i.ytimg.com/vi/wKk2op7zn8A/hqdefault.jpg</td>\n",
       "      <td>445</td>\n",
       "      <td>594772</td>\n",
       "      <td>1439</td>\n",
       "    </tr>\n",
       "  </tbody>\n",
       "</table>\n",
       "</div>"
      ],
      "text/plain": [
       "          動画ID                                タイトル                  投稿日時  \\\n",
       "0  wKk2op7zn8A  【災害級大雪】“南国”高知県で「観測史上1位」積雪　愛媛県では停電も  2022-12-24T02:52:59Z   \n",
       "\n",
       "                                                 概要欄      タグ カテゴリID  \\\n",
       "0  23日、“クリスマス寒波”が列島各地を襲い、西日本各地も大雪に見舞われました。愛媛・久万高原...  ['社会']     25   \n",
       "\n",
       "                                           サムネイルURL  コメント数    視聴回数  グッド数  \n",
       "0  https://i.ytimg.com/vi/wKk2op7zn8A/hqdefault.jpg    445  594772  1439  "
      ]
     },
     "execution_count": 22,
     "metadata": {},
     "output_type": "execute_result"
    }
   ],
   "source": [
    "# リストをデータフレーム化\n",
    "video_info_df = pd.DataFrame(video_info, columns=['動画ID', 'タイトル', '投稿日時', '概要欄', 'タグ', 'カテゴリID', 'サムネイルURL', 'コメント数', '視聴回数', 'グッド数'])\n",
    "video_info_df"
   ]
  },
  {
   "cell_type": "code",
   "execution_count": 23,
   "metadata": {},
   "outputs": [],
   "source": [
    "# CSV形式で出力\n",
    "video_info_df.to_csv(f\"video_info_{videoId}.csv\", index=False, encoding='utf-8')"
   ]
  },
  {
   "cell_type": "code",
   "execution_count": null,
   "metadata": {},
   "outputs": [],
   "source": []
  }
 ],
 "metadata": {
  "kernelspec": {
   "display_name": ".venv",
   "language": "python",
   "name": "python3"
  },
  "language_info": {
   "codemirror_mode": {
    "name": "ipython",
    "version": 3
   },
   "file_extension": ".py",
   "mimetype": "text/x-python",
   "name": "python",
   "nbconvert_exporter": "python",
   "pygments_lexer": "ipython3",
   "version": "3.10.10"
  },
  "orig_nbformat": 4,
  "vscode": {
   "interpreter": {
    "hash": "962c88976c5183b70bd2bd114c337181252f2e8b1760c63ec864278d2b766832"
   }
  }
 },
 "nbformat": 4,
 "nbformat_minor": 2
}

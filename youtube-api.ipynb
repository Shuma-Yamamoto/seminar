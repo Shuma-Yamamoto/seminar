{
 "cells": [
  {
   "cell_type": "code",
   "execution_count": null,
   "metadata": {},
   "outputs": [],
   "source": [
    "print('first commit')"
   ]
  }
 ],
 "metadata": {
  "kernelspec": {
   "display_name": "Python 3",
   "language": "python",
   "name": "python3"
  },
  "language_info": {
   "name": "python",
   "version": "3.10.10 (main, Apr 28 2023, 13:19:41) [Clang 14.0.0 (clang-1400.0.29.202)]"
  },
  "orig_nbformat": 4,
  "vscode": {
   "interpreter": {
    "hash": "58035b3abc06923af2a1d8e2bc7a6bf234f2162497655bce5a1fdb355ad0abe3"
   }
  }
 },
 "nbformat": 4,
 "nbformat_minor": 2
}
